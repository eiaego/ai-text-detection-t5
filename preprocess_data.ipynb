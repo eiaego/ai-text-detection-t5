{
 "cells": [
  {
   "cell_type": "code",
   "execution_count": 1,
   "metadata": {},
   "outputs": [],
   "source": [
    "# imports\n",
    "\n",
    "import pandas as pd\n",
    "import json\n",
    "import numpy as np\n",
    "import random\n",
    "import re\n",
    "import os"
   ]
  },
  {
   "cell_type": "code",
   "execution_count": 2,
   "metadata": {},
   "outputs": [],
   "source": [
    "def clean_text(text):\n",
    "\n",
    "    # Remove leading and trailing whitespaces and newlines\n",
    "    text = text.strip()\n",
    "    \n",
    "    # Replace multiple consecutive spaces or newlines with a single space or newline\n",
    "    text = re.sub(r' {2,}', ' ', text)\n",
    "    text = re.sub(r'\\n{2,}', '\\n', text)\n",
    "    \n",
    "    # Remove literal string '\\n'\n",
    "    text = text.replace(r'\\\\n', '')\n",
    "    return text"
   ]
  },
  {
   "cell_type": "code",
   "execution_count": 3,
   "metadata": {},
   "outputs": [],
   "source": [
    "\n",
    "data_list = []\n",
    "line_list = []\n",
    "discard = []\n",
    "linecount = 0\n",
    "sources = ['arxiv_', 'peerread_', 'reddit_', 'wikihow_', 'wikipedia_']\n",
    "llm_list = ['bloomz', 'davinci', 'cohere', 'chatGPT', 'dolly']\n",
    "keys_human = ['abstract', 'human_text', 'human_reviews']\n",
    "keys_machine = ['machine_abstract', 'machine_text', 'davinci_reviews', 'chatgpt_reviews', 'bloom_reviews', 'machine_answer']\n",
    "keys_bloomz = ['bloomz', 'bigscience/bloomz']"
   ]
  },
  {
   "cell_type": "code",
   "execution_count": 4,
   "metadata": {},
   "outputs": [],
   "source": [
    "\n",
    "human_text_added = False\n",
    "nanvals = ['NaN', 'nan', None, np.nan, '']\n",
    "\n",
    "for source in sources:\n",
    "    for llm in llm_list:\n",
    "        raw_json = []\n",
    "        filename = os.path.relpath(f\"datasets/M4/{source}{llm}.jsonl\")\n",
    "        with open(filename, 'r', encoding='utf-8') as f:\n",
    "            try:\n",
    "                file = f.readlines()\n",
    "                for line in file:\n",
    "                    data = json.loads(line)\n",
    "                    raw_json.append(data)\n",
    "                if human_text_added == False:\n",
    "                    for line in raw_json:\n",
    "                        for key, value in line.items():\n",
    "                            if value in keys_bloomz:\n",
    "                                data_list.append({'text' : clean_text(line['text']), 'label' : 'bloomz'})\n",
    "                            if key in keys_human:\n",
    "                                if value not in nanvals:\n",
    "                                    data_list.append({'text': clean_text(value), 'label': 'human'})\n",
    "                            elif key in keys_machine:\n",
    "                                    data_list.append({'text': clean_text(value), 'label' : line['model']}) \n",
    "                    human_text_added == True\n",
    "                else:\n",
    "                    for line in raw_json:\n",
    "                        for key, value in line.items():\n",
    "                            if key in keys_machine:\n",
    "                                if value not in nanvals:\n",
    "                                    data_list.append({'text': clean_text(value), 'label' : line['model']})              \n",
    "            except:\n",
    "                continue\n",
    "    human_text_added = False\n",
    "\n",
    "\n",
    "for index, row in df2.iterrows():\n",
    "    "
   ]
  },
  {
   "cell_type": "code",
   "execution_count": 5,
   "metadata": {},
   "outputs": [
    {
     "name": "stdout",
     "output_type": "stream",
     "text": [
      "76065\n"
     ]
    }
   ],
   "source": [
    "print(len(data_list))"
   ]
  },
  {
   "cell_type": "code",
   "execution_count": 6,
   "metadata": {},
   "outputs": [
    {
     "name": "stdout",
     "output_type": "stream",
     "text": [
      "['human', 'text-davinci-003', 'command-xlarge-nightly', 'gpt-3.5-turbo', 'cohere', 'cohere-xlarge-nightly', 'dolly-v2-12b']\n"
     ]
    }
   ],
   "source": [
    "keylist = []\n",
    "for line in data_list:\n",
    "    if line['label'] not in keylist:\n",
    "        keylist.append(line['label'])\n",
    "print(keylist)"
   ]
  },
  {
   "cell_type": "code",
   "execution_count": 7,
   "metadata": {},
   "outputs": [
    {
     "name": "stdout",
     "output_type": "stream",
     "text": [
      "['human', 'text-davinci-003', 'cohere', 'gpt-3.5-turbo', 'dolly-v2']\n"
     ]
    }
   ],
   "source": [
    "model_dict = {\n",
    "    'bigscience/bloomz' : 'bloomz',\n",
    "    'davinci' : 'text-davinci-003',\n",
    "    'command-xlarge-nightly' : 'cohere', \n",
    "    'dolly-v2-12b' : 'dolly-v2', \n",
    "    'chatgpt' : 'gpt-3.5-turbo', \n",
    "    'cohere-xlarge-nightly' : 'cohere'\n",
    "}\n",
    "\n",
    "for line in data_list:\n",
    "    if line['label'] in model_dict.keys():\n",
    "        line['label'] = model_dict[line['label']]\n",
    "            \n",
    "keylist = []\n",
    "for line in data_list:\n",
    "    if line['label'] not in keylist:\n",
    "        keylist.append(line['label'])\n",
    "print(keylist)"
   ]
  },
  {
   "cell_type": "code",
   "execution_count": 9,
   "metadata": {},
   "outputs": [
    {
     "name": "stdout",
     "output_type": "stream",
     "text": [
      "101820\n"
     ]
    }
   ],
   "source": [
    "print(len(data_list))"
   ]
  },
  {
   "cell_type": "code",
   "execution_count": 10,
   "metadata": {},
   "outputs": [
    {
     "data": {
      "text/plain": [
       "(101820, 2)"
      ]
     },
     "execution_count": 10,
     "metadata": {},
     "output_type": "execute_result"
    }
   ],
   "source": [
    "df = pd.DataFrame(data_list).astype(pd.StringDtype())\n",
    "df.shape"
   ]
  },
  {
   "cell_type": "code",
   "execution_count": 11,
   "metadata": {},
   "outputs": [
    {
     "data": {
      "text/plain": [
       "<bound method NDFrame.head of                                                      text             label\n",
       "0       A rather non-standard quantum representation o...             human\n",
       "1       This paper studies the connection between ordi...  text-davinci-003\n",
       "2       We discuss the results from the combined IRAC ...             human\n",
       "3       This work presents an analysis of the c2d Spit...  text-davinci-003\n",
       "4       Results from spectroscopic observations of the...             human\n",
       "...                                                   ...               ...\n",
       "101815  It requires special equipment . It takes up sp...            bloomz\n",
       "101816  Write a detailed response for the question. Us...            bloomz\n",
       "101817  Write an abstract for a Wikipedia article with...            bloomz\n",
       "101818  Write a WikiHow article content given a title ...            bloomz\n",
       "101819  It doesn't, it sends them to another device th...            bloomz\n",
       "\n",
       "[101820 rows x 2 columns]>"
      ]
     },
     "execution_count": 11,
     "metadata": {},
     "output_type": "execute_result"
    }
   ],
   "source": [
    "df.head"
   ]
  },
  {
   "cell_type": "code",
   "execution_count": 12,
   "metadata": {},
   "outputs": [
    {
     "data": {
      "text/plain": [
       "(101820, 2)"
      ]
     },
     "execution_count": 12,
     "metadata": {},
     "output_type": "execute_result"
    }
   ],
   "source": [
    "df = df.sample(frac=1).reset_index(drop=True)\n",
    "df.drop_duplicates()\n",
    "df = df[df['text'] == df['text']]\n",
    "df.shape"
   ]
  },
  {
   "cell_type": "code",
   "execution_count": 13,
   "metadata": {},
   "outputs": [],
   "source": [
    "df.to_csv('dataset_multi.csv', index=False, encoding='utf-8')"
   ]
  },
  {
   "cell_type": "code",
   "execution_count": 16,
   "metadata": {},
   "outputs": [],
   "source": [
    "# Create the binary classification dataset\n",
    "# Merge In-The-Wild mixed datasets\n",
    "\n",
    "filenames = [os.path.relpath(\"datasets/human-machine-mix/ArticleForge.jsonl\"),\n",
    "             os.path.relpath(\"datasets/human-machine-mix/Kafkai.jsonl\"),\n",
    "             os.path.relpath(\"datasets/human-machine-mix/RedditBot.jsonl\"),\n",
    "             os.path.relpath(\"datasets/human-machine-mix/AI-Writer.jsonl\")]\n",
    "\n",
    "data_list = []\n",
    "for filename in filenames:\n",
    "    with open(filename, 'r', encoding='utf-8') as file:\n",
    "        for line in file:\n",
    "            # Parse the JSON data\n",
    "            data = json.loads(line)\n",
    "            \n",
    "            # Extract the 'text'\n",
    "            text = data[\"text\"]\n",
    "            label = data['label']\n",
    "\n",
    "            \n",
    "            # Append the extracted data to the results list\n",
    "            data_list.append({'text': text, 'label': label})\n",
    "\n",
    "df = pd.DataFrame(data_list)\n",
    "df = df.sample(frac=1).reset_index(drop=True)\n",
    "df = df[df['text'] == df['text']]\n",
    "df.to_csv('dataset_binary.csv', index=False)"
   ]
  }
 ],
 "metadata": {
  "kernelspec": {
   "display_name": "Python 3",
   "language": "python",
   "name": "python3"
  },
  "language_info": {
   "codemirror_mode": {
    "name": "ipython",
    "version": 3
   },
   "file_extension": ".py",
   "mimetype": "text/x-python",
   "name": "python",
   "nbconvert_exporter": "python",
   "pygments_lexer": "ipython3",
   "version": "3.10.11"
  }
 },
 "nbformat": 4,
 "nbformat_minor": 2
}
